{
 "cells": [
  {
   "cell_type": "markdown",
   "id": "06943996",
   "metadata": {},
   "source": [
    "## Preprocess Data for VAE"
   ]
  },
  {
   "cell_type": "markdown",
   "id": "82e38f7f",
   "metadata": {},
   "source": [
    "The aim of this notebook is to translate NetCDF files (.nc) of three daily climate variables (maximum temperature, precipitations, wind) to a numpy 3D-array. This output array can easily be read for training and evaluating the Convolutional Variational AutoEncoder model."
   ]
  },
  {
   "cell_type": "markdown",
   "id": "fcdd6bc4",
   "metadata": {},
   "source": [
    "#### 0. Libraries"
   ]
  },
  {
   "cell_type": "code",
   "execution_count": 1,
   "id": "76cef226",
   "metadata": {},
   "outputs": [],
   "source": [
    "import numpy as np\n",
    "import xarray as xr\n",
    "import cftime\n",
    "import csv\n",
    "import pandas as pd\n",
    "from datetime import datetime"
   ]
  },
  {
   "cell_type": "markdown",
   "id": "38532b17",
   "metadata": {},
   "source": [
    "#### 1. Load Data to xarrays"
   ]
  },
  {
   "cell_type": "code",
   "execution_count": 25,
   "id": "ff1871dc",
   "metadata": {},
   "outputs": [],
   "source": [
    "# Historical Datasets\n",
    "# regrouped by climate variable\n",
    "\n",
    "temp_50 = xr.open_dataset(\"../data/tasmax_day_CMCC-ESM2_historical_r1i1p1f1_gn_19500101-19741231.nc\")\n",
    "temp_75 = xr.open_dataset(\"../data/tasmax_day_CMCC-ESM2_historical_r1i1p1f1_gn_19750101-19991231.nc\")\n",
    "temp_00 = xr.open_dataset(\"../data/tasmax_day_CMCC-ESM2_historical_r1i1p1f1_gn_20000101-20141231.nc\")\n",
    "temp_histo = xr.concat([temp_50, temp_75, temp_00], \"time\")\n",
    "\n",
    "prcp_50 = xr.open_dataset(\"../data/pr_day_CMCC-ESM2_historical_r1i1p1f1_gn_19500101-19741231.nc\")\n",
    "prcp_75 = xr.open_dataset(\"../data/pr_day_CMCC-ESM2_historical_r1i1p1f1_gn_19750101-19991231.nc\")\n",
    "prcp_00 = xr.open_dataset(\"../data/pr_day_CMCC-ESM2_historical_r1i1p1f1_gn_20000101-20141231.nc\")\n",
    "prcp_histo = xr.concat([prcp_50, prcp_75, prcp_00], \"time\")\n",
    "\n",
    "wind_50 = xr.open_dataset(\"../data/sfcWind_day_CMCC-ESM2_historical_r1i1p1f1_gn_19500101-19741231.nc\")\n",
    "wind_75 = xr.open_dataset(\"../data/sfcWind_day_CMCC-ESM2_historical_r1i1p1f1_gn_19750101-19991231.nc\")\n",
    "wind_00 = xr.open_dataset(\"../data/sfcWind_day_CMCC-ESM2_historical_r1i1p1f1_gn_20000101-20141231.nc\")\n",
    "wind_histo = xr.concat([wind_50, wind_75, wind_00], \"time\")"
   ]
  },
  {
   "cell_type": "code",
   "execution_count": 46,
   "id": "cef8b85e",
   "metadata": {},
   "outputs": [],
   "source": [
    "# Projection Datasets\n",
    "# regrouped by climate variable\n",
    "\n",
    "# choose IPCC scenario among 126, 245, 370, 585 (i.e. SSP1-2.6, ...)\n",
    "scenario = '585'\n",
    "\n",
    "temp_15 = xr.open_dataset(f\"../data/tasmax_day_CMCC-ESM2_ssp{scenario}_r1i1p1f1_gn_20150101-20391231.nc\")\n",
    "temp_40 = xr.open_dataset(f\"../data/tasmax_day_CMCC-ESM2_ssp{scenario}_r1i1p1f1_gn_20400101-20641231.nc\")\n",
    "temp_65 = xr.open_dataset(f\"../data/tasmax_day_CMCC-ESM2_ssp{scenario}_r1i1p1f1_gn_20650101-20891231.nc\")\n",
    "temp_90 = xr.open_dataset(f\"../data/tasmax_day_CMCC-ESM2_ssp{scenario}_r1i1p1f1_gn_20900101-21001231.nc\")\n",
    "temp_proj = xr.concat([temp_15, temp_40, temp_65, temp_90], \"time\")\n",
    "\n",
    "prcp_15 = xr.open_dataset(f\"../data/pr_day_CMCC-ESM2_ssp{scenario}_r1i1p1f1_gn_20150101-20391231.nc\")\n",
    "prcp_40 = xr.open_dataset(f\"../data/pr_day_CMCC-ESM2_ssp{scenario}_r1i1p1f1_gn_20400101-20641231.nc\")\n",
    "prcp_65 = xr.open_dataset(f\"../data/pr_day_CMCC-ESM2_ssp{scenario}_r1i1p1f1_gn_20650101-20891231.nc\")\n",
    "prcp_90 = xr.open_dataset(f\"../data/pr_day_CMCC-ESM2_ssp{scenario}_r1i1p1f1_gn_20900101-21001231.nc\")\n",
    "prcp_proj = xr.concat([prcp_15, prcp_40, prcp_65, prcp_90], \"time\")\n",
    "\n",
    "wind_15 = xr.open_dataset(f\"../data/sfcWind_day_CMCC-ESM2_ssp{scenario}_r1i1p1f1_gn_20150101-20391231.nc\")\n",
    "wind_40 = xr.open_dataset(f\"../data/sfcWind_day_CMCC-ESM2_ssp{scenario}_r1i1p1f1_gn_20400101-20641231.nc\")\n",
    "wind_65 = xr.open_dataset(f\"../data/sfcWind_day_CMCC-ESM2_ssp{scenario}_r1i1p1f1_gn_20650101-20891231.nc\")\n",
    "wind_90 = xr.open_dataset(f\"../data/sfcWind_day_CMCC-ESM2_ssp{scenario}_r1i1p1f1_gn_20900101-21001231.nc\")\n",
    "wind_proj = xr.concat([wind_15, wind_40, wind_65, wind_90], \"time\")"
   ]
  },
  {
   "cell_type": "code",
   "execution_count": 20,
   "id": "d8edf068",
   "metadata": {},
   "outputs": [],
   "source": [
    "# Projection Datasets\n",
    "# regrouped by climate variable\n",
    "\n",
    "# choose IPCC scenario among 126, 245, 370, 585 (i.e. SSP1-2.6, ...)\n",
    "scenario = '245'\n",
    "\n",
    "temp_40 = xr.open_dataset(f\"../data/tasmax_day_CMCC-ESM2_ssp{scenario}_r1i1p1f1_gn_20400101-20641231.nc\")\n",
    "temp_65 = xr.open_dataset(f\"../data/tasmax_day_CMCC-ESM2_ssp{scenario}_r1i1p1f1_gn_20650101-20891231.nc\")\n",
    "temp_90 = xr.open_dataset(f\"../data/tasmax_day_CMCC-ESM2_ssp{scenario}_r1i1p1f1_gn_20900101-21001231.nc\")\n",
    "temp_proj = xr.concat([temp_40, temp_65], \"time\")\n",
    "temp_proj = xr.concat([temp_proj, temp_90], \"time\")\n",
    "\n",
    "prcp_40 = xr.open_dataset(f\"../data/pr_day_CMCC-ESM2_ssp{scenario}_r1i1p1f1_gn_20400101-20641231.nc\")\n",
    "prcp_65 = xr.open_dataset(f\"../data/pr_day_CMCC-ESM2_ssp{scenario}_r1i1p1f1_gn_20650101-20891231.nc\")\n",
    "prcp_90 = xr.open_dataset(f\"../data/pr_day_CMCC-ESM2_ssp{scenario}_r1i1p1f1_gn_20900101-21001231.nc\")\n",
    "prcp_proj = xr.concat([prcp_40, prcp_65], \"time\")\n",
    "prcp_proj = xr.concat([prcp_proj, prcp_90], \"time\")\n",
    "\n",
    "wind_40 = xr.open_dataset(f\"../data/sfcWind_day_CMCC-ESM2_ssp{scenario}_r1i1p1f1_gn_20400101-20641231.nc\")\n",
    "wind_65 = xr.open_dataset(f\"../data/sfcWind_day_CMCC-ESM2_ssp{scenario}_r1i1p1f1_gn_20650101-20891231.nc\")\n",
    "wind_90 = xr.open_dataset(f\"../data/sfcWind_day_CMCC-ESM2_ssp{scenario}_r1i1p1f1_gn_20900101-21001231.nc\")\n",
    "wind_proj = xr.concat([wind_40, wind_65], \"time\")\n",
    "wind_proj = xr.concat([wind_proj, wind_90], \"time\")"
   ]
  },
  {
   "cell_type": "markdown",
   "id": "4636e761",
   "metadata": {},
   "source": [
    "#### 2. Restrict to a Geospatial Square"
   ]
  },
  {
   "cell_type": "code",
   "execution_count": 4,
   "id": "de4410c3",
   "metadata": {},
   "outputs": [],
   "source": [
    "sq32_west_europe = {\n",
    "    \"min_lon\": -10,\n",
    "    \"max_lon\": 29,\n",
    "    \"min_lat\": 36,\n",
    "    \"max_lat\": 66\n",
    "}"
   ]
  },
  {
   "cell_type": "code",
   "execution_count": 5,
   "id": "34e2ca6e",
   "metadata": {},
   "outputs": [],
   "source": [
    "def xr_to_ndarray(xr_dset: xr.Dataset, \n",
    "                  sq_coords: dict\n",
    "                 ) -> (np.ndarray, np.array, str):\n",
    "    \"\"\"\n",
    "    Convert xarray dataset it to a cropped square ndarray.\n",
    "    :param sq_coords: spatial coordinates of the crop\n",
    "    \"\"\"\n",
    "    xr_dset.coords['lon'] = (xr_dset.coords['lon'] + 180) % 360 - 180\n",
    "    xr_dset = xr_dset.sortby(xr_dset.lon)\n",
    "    xr_dset = xr_dset.sel(\n",
    "        lon = slice(sq_coords['min_lon'], sq_coords['max_lon']),\n",
    "        lat = slice(sq_coords['min_lat'], sq_coords['max_lat'])\n",
    "    )\n",
    "    time_list = np.array(xr_dset['time'])\n",
    "    n_t = len(time_list)\n",
    "    n_lat = len(xr_dset.coords['lat'])\n",
    "    n_lon = len(xr_dset.coords['lon'])\n",
    "    nd_dset = np.ndarray((n_t, n_lat, n_lon, 1), dtype=\"float32\")\n",
    "    climate_variable = xr_dset.attrs['variable_id']\n",
    "    nd_dset[:, :, :, 0] = xr_dset[climate_variable][:, :, :]\n",
    "    nd_dset = np.flip(nd_dset, axis=1)\n",
    "    \n",
    "    return nd_dset, time_list"
   ]
  },
  {
   "cell_type": "markdown",
   "id": "53f378d8",
   "metadata": {},
   "source": [
    "#### 3. Normalize"
   ]
  },
  {
   "cell_type": "code",
   "execution_count": 6,
   "id": "9f3d8533",
   "metadata": {},
   "outputs": [],
   "source": [
    "def get_extrema(histo_dataset: np.ndarray,\n",
    "                proj_dataset: np.ndarray) -> np.array:\n",
    "    # compute global extrema over past and future\n",
    "    global_min = min(np.min(histo_dataset), np.min(proj_dataset))\n",
    "    global_max = max(np.max(histo_dataset), np.max(proj_dataset))\n",
    "    return np.array([global_min, global_max])"
   ]
  },
  {
   "cell_type": "code",
   "execution_count": 7,
   "id": "95dd5975",
   "metadata": {},
   "outputs": [],
   "source": [
    "def normalize(nd_dset: np.ndarray, \n",
    "              extrema: np.array\n",
    "             ) -> np.ndarray:\n",
    "    norm_dset = (nd_dset-extrema[0])/(extrema[1]-extrema[0])\n",
    "    return norm_dset"
   ]
  },
  {
   "cell_type": "markdown",
   "id": "a5c6da4f",
   "metadata": {},
   "source": [
    "#### 4. Split Historical Data into Train and Test Datasets"
   ]
  },
  {
   "cell_type": "markdown",
   "id": "fa427d43",
   "metadata": {},
   "source": [
    "Train the network on most of the historical data, but keep some to test the model performance on new data points."
   ]
  },
  {
   "cell_type": "code",
   "execution_count": 8,
   "id": "9f905b1c",
   "metadata": {},
   "outputs": [],
   "source": [
    "def split_train_test(nd_dset: np.ndarray,\n",
    "                     time_list: np.array,\n",
    "                     train_proportion: float = 0.8\n",
    "                    ) -> (np.ndarray, np.ndarray, np.array, np.array):\n",
    "    len_train = int(len(nd_dset)*train_proportion)\n",
    "    train_data = nd_dset[:len_train]\n",
    "    test_data = nd_dset[len_train:]\n",
    "    train_time = time_list[:len_train]\n",
    "    test_time = time_list[len_train:]\n",
    "    return train_data, test_data, train_time, test_time"
   ]
  },
  {
   "cell_type": "markdown",
   "id": "82a5ecab",
   "metadata": {},
   "source": [
    "#### 5. Combine into a 3D-Array"
   ]
  },
  {
   "cell_type": "code",
   "execution_count": 9,
   "id": "feea5346",
   "metadata": {},
   "outputs": [],
   "source": [
    "def ndarray_to_3d(temp_dset: np.ndarray,\n",
    "                 prcp_dset: np.ndarray,\n",
    "                 wind_dset: np.ndarray\n",
    "                 ) -> np.ndarray:\n",
    "    \n",
    "    n_t = np.shape(temp_dset)[0]\n",
    "    n_lat = np.shape(temp_dset)[1]\n",
    "    n_lon = np.shape(temp_dset)[2]\n",
    "    \n",
    "    # combine all variables on a same period to a new 3D-array\n",
    "    total_dset = np.zeros((n_t, n_lat, n_lon, 3), dtype=\"float32\")\n",
    "    total_dset[:,:,:,0] = temp_dset.reshape(n_t,n_lat,n_lon)\n",
    "    total_dset[:,:,:,1] = prcp_dset.reshape(n_t,n_lat,n_lon)\n",
    "    total_dset[:,:,:,2] = wind_dset.reshape(n_t,n_lat,n_lon)\n",
    "    \n",
    "    return total_dset"
   ]
  },
  {
   "cell_type": "markdown",
   "id": "a54f08e1",
   "metadata": {},
   "source": [
    "#### 6. Full Preprocessing"
   ]
  },
  {
   "cell_type": "code",
   "execution_count": 10,
   "id": "9bb4c213",
   "metadata": {},
   "outputs": [],
   "source": [
    "def preprocess_3d(temp_histo: xr.Dataset,\n",
    "                 temp_proj: xr.Dataset,\n",
    "                 prcp_histo: xr.Dataset,\n",
    "                 prcp_proj: xr.Dataset,\n",
    "                 wind_histo: xr.Dataset,\n",
    "                 wind_proj: xr.Dataset,\n",
    "                 sq_crop: dict,\n",
    "                 saving_on: bool = True):\n",
    "    \n",
    "    # convert historical xarrays to ndarrays for each climate variable\n",
    "    temp_histo_nd, time_list = xr_to_ndarray(temp_histo, sq_crop)\n",
    "    prcp_histo_nd, _ = xr_to_ndarray(prcp_histo, sq_crop)\n",
    "    wind_histo_nd, _ = xr_to_ndarray(wind_histo, sq_crop)\n",
    "\n",
    "    # projection xarrays to ndarrays\n",
    "    temp_proj_nd, time_proj = xr_to_ndarray(temp_proj, sq_crop)\n",
    "    prcp_proj_nd, _ = xr_to_ndarray(prcp_proj, sq_crop)\n",
    "    wind_proj_nd, _ = xr_to_ndarray(wind_proj, sq_crop)\n",
    "\n",
    "    # compute extrema for each variable\n",
    "    temp_extrema = get_extrema(temp_histo_nd, temp_proj_nd)\n",
    "    prcp_extrema = get_extrema(prcp_histo_nd, prcp_proj_nd)\n",
    "    wind_extrema = get_extrema(wind_histo_nd, wind_proj_nd)\n",
    "\n",
    "    # normalize all datasets\n",
    "    temp_histo_norm = normalize(temp_histo_nd, temp_extrema)\n",
    "    temp_proj_norm = normalize(temp_proj_nd, temp_extrema)\n",
    "    prcp_histo_norm = normalize(prcp_histo_nd, prcp_extrema)\n",
    "    prcp_proj_norm = normalize(prcp_proj_nd, prcp_extrema)\n",
    "    wind_histo_norm = normalize(wind_histo_nd, wind_extrema)\n",
    "    wind_proj_norm = normalize(wind_proj_nd, wind_extrema)\n",
    "\n",
    "    # split historical datasets into train and test ones\n",
    "    train_temp, test_temp, train_time, test_time = split_train_test(temp_histo_norm,\n",
    "                                                                    time_list)\n",
    "    train_prcp, test_prcp, _, _ = split_train_test(prcp_histo_norm, \n",
    "                                                   time_list)\n",
    "    train_wind, test_wind, _, _ = split_train_test(wind_histo_norm,\n",
    "                                                   time_list)\n",
    "\n",
    "    # aggregate datasets per time period (3D-ndarrays)\n",
    "    total_train = ndarray_to_3d(train_temp, train_prcp, train_wind)\n",
    "    total_test = ndarray_to_3d(test_temp, test_prcp, test_wind)\n",
    "    total_proj = ndarray_to_3d(temp_proj_norm, \n",
    "                               prcp_proj_norm, \n",
    "                               wind_proj_norm)\n",
    "\n",
    "    # save data in input folder\n",
    "    if saving_on == True:\n",
    "        np.save(\"../input/preprocessed_3d_train_data.npy\", total_train)\n",
    "        np.save(\"../input/preprocessed_3d_test_data.npy\", total_test)\n",
    "        np.save(\"../input/preprocessed_3d_proj_data.npy\", total_proj)\n",
    "        pd.DataFrame(train_time).to_csv('../input/dates_train_data.csv')\n",
    "        pd.DataFrame(test_time).to_csv('../input/dates_test_data.csv')\n",
    "        pd.DataFrame(time_proj).to_csv('../input/dates_proj_data.csv')\n",
    "        \n",
    "    return total_train, total_test, total_proj, train_time, test_time, time_proj"
   ]
  },
  {
   "cell_type": "code",
   "execution_count": 32,
   "id": "f78f1573",
   "metadata": {},
   "outputs": [],
   "source": [
    "total_train, total_test, total_proj, time_train, time_test, time_proj = preprocess_3d(temp_histo, temp_proj, prcp_histo,\n",
    "              prcp_proj, wind_histo, wind_proj, sq32_west_europe)"
   ]
  },
  {
   "cell_type": "markdown",
   "id": "d89141e9",
   "metadata": {},
   "source": [
    "#### 7. Step-by-Step Preprocessing"
   ]
  },
  {
   "cell_type": "markdown",
   "id": "0f3148ac",
   "metadata": {},
   "source": [
    "Here the functions are called one by one to analyze intermediate results or independently run small parts of the script."
   ]
  },
  {
   "cell_type": "code",
   "execution_count": 26,
   "id": "9ddfe094",
   "metadata": {},
   "outputs": [],
   "source": [
    "temp_histo_nd, time_list = xr_to_ndarray(temp_histo, sq32_west_europe)\n",
    "prcp_histo_nd, _ = xr_to_ndarray(prcp_histo, sq32_west_europe)\n",
    "wind_histo_nd, _ = xr_to_ndarray(wind_histo, sq32_west_europe)"
   ]
  },
  {
   "cell_type": "code",
   "execution_count": 11,
   "id": "9ee0d752",
   "metadata": {},
   "outputs": [],
   "source": [
    "temp_proj_nd, time_proj = xr_to_ndarray(temp_proj, sq32_west_europe)\n",
    "prcp_proj_nd, _ = xr_to_ndarray(prcp_proj, sq32_west_europe)\n",
    "wind_proj_nd, _ = xr_to_ndarray(wind_proj, sq32_west_europe)"
   ]
  },
  {
   "cell_type": "code",
   "execution_count": 30,
   "id": "aa7d142b",
   "metadata": {},
   "outputs": [],
   "source": [
    "#temp_extrema = get_extrema(temp_histo_nd, temp_proj_nd)\n",
    "#prcp_extrema = get_extrema(prcp_histo_nd, prcp_proj_nd)\n",
    "#wind_extrema = get_extrema(wind_histo_nd, wind_proj_nd)\n",
    "#extrema = np.array([temp_extrema, prcp_extrema, wind_extrema, temp_extrema, prcp_extrema, wind_extrema])"
   ]
  },
  {
   "cell_type": "code",
   "execution_count": 27,
   "id": "26b2c8eb",
   "metadata": {},
   "outputs": [],
   "source": [
    "temp_extrema = np.array([234.8754, 327.64])\n",
    "# ssp585 array([234.8754, 327.64  ], dtype=float32)\n",
    "# ssp370 array([234.8754 , 325.43323], dtype=float32)\n",
    "# ssp245 array([234.8754, 324.8263], dtype=float32)\n",
    "# ssp126 array([234.8754, 323.6651], dtype=float32)"
   ]
  },
  {
   "cell_type": "code",
   "execution_count": 28,
   "id": "d58f2de8",
   "metadata": {},
   "outputs": [],
   "source": [
    "prcp_extrema = np.array([0., 1.8359179e-03])\n",
    "# ssp585 array([-7.8113006e-18,  1.4250991e-03], dtype=float32)\n",
    "# ssp370 array([-7.7275618e-18,  1.8359179e-03], dtype=float32)\n",
    "# ssp245 array([-1.3727080e-17,  1.6637903e-03], dtype=float32)\n",
    "# ssp126 array([-5.3011077e-18,  1.5436712e-03], dtype=float32)"
   ]
  },
  {
   "cell_type": "code",
   "execution_count": 29,
   "id": "98027dae",
   "metadata": {},
   "outputs": [],
   "source": [
    "wind_extrema = np.array([0.0441956, 29.883984])\n",
    "# ssp585 array([ 0.0441956, 28.388906 ], dtype=float32)\n",
    "# ssp370 array([ 0.0441956, 28.388906 ], dtype=float32)\n",
    "# ssp245 array([0.0441956, 29.883984], dtype=float32)\n",
    "# ssp126 array([ 0.0441956, 28.388906 ], dtype=float32)"
   ]
  },
  {
   "cell_type": "code",
   "execution_count": 30,
   "id": "e61c35a3",
   "metadata": {},
   "outputs": [],
   "source": [
    "temp_histo_norm = normalize(temp_histo_nd, temp_extrema)\n",
    "prcp_histo_norm = normalize(prcp_histo_nd, prcp_extrema)\n",
    "wind_histo_norm = normalize(wind_histo_nd, wind_extrema)"
   ]
  },
  {
   "cell_type": "code",
   "execution_count": 22,
   "id": "7d24e20d",
   "metadata": {},
   "outputs": [],
   "source": [
    "temp_proj_norm = normalize(temp_proj_nd, temp_extrema)\n",
    "prcp_proj_norm = normalize(prcp_proj_nd, prcp_extrema)\n",
    "wind_proj_norm = normalize(wind_proj_nd, wind_extrema)"
   ]
  },
  {
   "cell_type": "code",
   "execution_count": 31,
   "id": "2c520c72",
   "metadata": {},
   "outputs": [],
   "source": [
    "train_temp, test_temp, train_time, test_time = split_train_test(temp_histo_norm,\n",
    "                                                                time_list)\n",
    "train_prcp, test_prcp, _, _ = split_train_test(prcp_histo_norm, \n",
    "                                               time_list)\n",
    "train_wind, test_wind, _, _ = split_train_test(wind_histo_norm,\n",
    "                                               time_list)"
   ]
  },
  {
   "cell_type": "code",
   "execution_count": 33,
   "id": "75ccb0c7",
   "metadata": {},
   "outputs": [],
   "source": [
    "total_histo = ndarray_to_3d(temp_histo_norm, \n",
    "                            prcp_histo_norm, \n",
    "                            wind_histo_norm)"
   ]
  },
  {
   "cell_type": "code",
   "execution_count": 32,
   "id": "8ce3b64b",
   "metadata": {},
   "outputs": [],
   "source": [
    "total_train = ndarray_to_3d(train_temp, train_prcp, train_wind)\n",
    "total_test = ndarray_to_3d(test_temp, test_prcp, test_wind)"
   ]
  },
  {
   "cell_type": "code",
   "execution_count": 23,
   "id": "fc72144a",
   "metadata": {},
   "outputs": [],
   "source": [
    "total_proj = ndarray_to_3d(temp_proj_norm, \n",
    "                           prcp_proj_norm, \n",
    "                           wind_proj_norm)"
   ]
  },
  {
   "cell_type": "code",
   "execution_count": 34,
   "id": "8a1176b7",
   "metadata": {},
   "outputs": [],
   "source": [
    "np.save(\"../input/preprocessed_3d_histo_data_allssp.npy\", total_train)"
   ]
  },
  {
   "cell_type": "code",
   "execution_count": 18,
   "id": "8bb684f9",
   "metadata": {},
   "outputs": [
    {
     "ename": "NameError",
     "evalue": "name 'total_train' is not defined",
     "output_type": "error",
     "traceback": [
      "\u001b[0;31m---------------------------------------------------------------------------\u001b[0m",
      "\u001b[0;31mNameError\u001b[0m                                 Traceback (most recent call last)",
      "Cell \u001b[0;32mIn[18], line 1\u001b[0m\n\u001b[0;32m----> 1\u001b[0m np\u001b[38;5;241m.\u001b[39msave(\u001b[38;5;124m\"\u001b[39m\u001b[38;5;124m../input/preprocessed_3d_train_data_allssp.npy\u001b[39m\u001b[38;5;124m\"\u001b[39m, \u001b[43mtotal_train\u001b[49m)\n\u001b[1;32m      2\u001b[0m np\u001b[38;5;241m.\u001b[39msave(\u001b[38;5;124m\"\u001b[39m\u001b[38;5;124m../input/preprocessed_3d_test_data_allssp.npy\u001b[39m\u001b[38;5;124m\"\u001b[39m, total_test)\n",
      "\u001b[0;31mNameError\u001b[0m: name 'total_train' is not defined"
     ]
    }
   ],
   "source": [
    "np.save(\"../input/preprocessed_3d_train_data_allssp.npy\", total_train)\n",
    "np.save(\"../input/preprocessed_3d_test_data_allssp.npy\", total_test)"
   ]
  },
  {
   "cell_type": "code",
   "execution_count": 24,
   "id": "1521f8ee",
   "metadata": {},
   "outputs": [],
   "source": [
    "np.save(f\"../input/preprocessed_3d_proj{scenario}_data_allssp.npy\", total_proj)"
   ]
  },
  {
   "cell_type": "code",
   "execution_count": null,
   "id": "092eab87",
   "metadata": {},
   "outputs": [],
   "source": [
    "pd.DataFrame(train_time).to_csv('../input/dates_train_data.csv')\n",
    "pd.DataFrame(test_time).to_csv('../input/dates_test_data.csv')\n",
    "pd.DataFrame(time_proj).to_csv('../input/dates_proj_data.csv')"
   ]
  },
  {
   "cell_type": "markdown",
   "id": "9fa219bd",
   "metadata": {},
   "source": [
    "#### 8. Preprocessing with 4 IPCC scenarios"
   ]
  },
  {
   "cell_type": "code",
   "execution_count": 9,
   "id": "47b0a9da",
   "metadata": {},
   "outputs": [],
   "source": [
    "temp_proj = []\n",
    "prcp_proj = []\n",
    "wind_proj = []\n",
    "\n",
    "scenarios = ['126', '245', '370', '585']\n",
    "scenario = '126'\n",
    "temp_40 = xr.open_dataset(f\"../data/tasmax_day_CMCC-ESM2_ssp{scenario}_r1i1p1f1_gn_20400101-20641231.nc\")\n",
    "temp_65 = xr.open_dataset(f\"../data/tasmax_day_CMCC-ESM2_ssp{scenario}_r1i1p1f1_gn_20650101-20891231.nc\")\n",
    "temp_90 = xr.open_dataset(f\"../data/tasmax_day_CMCC-ESM2_ssp{scenario}_r1i1p1f1_gn_20900101-21001231.nc\")\n",
    "temp_proj.append(xr.concat([temp_40, temp_65, temp_90], \"time\"))"
   ]
  },
  {
   "cell_type": "code",
   "execution_count": 10,
   "id": "21b19fa1",
   "metadata": {},
   "outputs": [],
   "source": [
    "prcp_40 = xr.open_dataset(f\"../data/pr_day_CMCC-ESM2_ssp{scenario}_r1i1p1f1_gn_20400101-20641231.nc\")\n",
    "prcp_65 = xr.open_dataset(f\"../data/pr_day_CMCC-ESM2_ssp{scenario}_r1i1p1f1_gn_20650101-20891231.nc\")\n",
    "prcp_90 = xr.open_dataset(f\"../data/pr_day_CMCC-ESM2_ssp{scenario}_r1i1p1f1_gn_20900101-21001231.nc\")\n",
    "prcp_proj.append(xr.concat([prcp_40, prcp_65, prcp_90], \"time\"))\n",
    "\n",
    "wind_40 = xr.open_dataset(f\"../data/sfcWind_day_CMCC-ESM2_ssp{scenario}_r1i1p1f1_gn_20400101-20641231.nc\")\n",
    "wind_65 = xr.open_dataset(f\"../data/sfcWind_day_CMCC-ESM2_ssp{scenario}_r1i1p1f1_gn_20650101-20891231.nc\")\n",
    "wind_90 = xr.open_dataset(f\"../data/sfcWind_day_CMCC-ESM2_ssp{scenario}_r1i1p1f1_gn_20900101-21001231.nc\")\n",
    "wind_proj.append(xr.concat([wind_40, wind_65, wind_90], \"time\"))"
   ]
  },
  {
   "cell_type": "code",
   "execution_count": 11,
   "id": "05c2f464",
   "metadata": {},
   "outputs": [],
   "source": [
    "scenario = '245'\n",
    "\n",
    "temp_40 = xr.open_dataset(f\"../data/tasmax_day_CMCC-ESM2_ssp{scenario}_r1i1p1f1_gn_20400101-20641231.nc\")\n",
    "temp_65 = xr.open_dataset(f\"../data/tasmax_day_CMCC-ESM2_ssp{scenario}_r1i1p1f1_gn_20650101-20891231.nc\")\n",
    "temp_90 = xr.open_dataset(f\"../data/tasmax_day_CMCC-ESM2_ssp{scenario}_r1i1p1f1_gn_20900101-21001231.nc\")\n",
    "temp_proj.append(xr.concat([temp_40, temp_65, temp_90], \"time\"))\n",
    "\n",
    "prcp_40 = xr.open_dataset(f\"../data/pr_day_CMCC-ESM2_ssp{scenario}_r1i1p1f1_gn_20400101-20641231.nc\")\n",
    "prcp_65 = xr.open_dataset(f\"../data/pr_day_CMCC-ESM2_ssp{scenario}_r1i1p1f1_gn_20650101-20891231.nc\")\n",
    "prcp_90 = xr.open_dataset(f\"../data/pr_day_CMCC-ESM2_ssp{scenario}_r1i1p1f1_gn_20900101-21001231.nc\")\n",
    "prcp_proj.append(xr.concat([prcp_40, prcp_65, prcp_90], \"time\"))\n",
    "\n",
    "wind_40 = xr.open_dataset(f\"../data/sfcWind_day_CMCC-ESM2_ssp{scenario}_r1i1p1f1_gn_20400101-20641231.nc\")\n",
    "wind_65 = xr.open_dataset(f\"../data/sfcWind_day_CMCC-ESM2_ssp{scenario}_r1i1p1f1_gn_20650101-20891231.nc\")\n",
    "wind_90 = xr.open_dataset(f\"../data/sfcWind_day_CMCC-ESM2_ssp{scenario}_r1i1p1f1_gn_20900101-21001231.nc\")\n",
    "wind_proj.append(xr.concat([wind_40, wind_65, wind_90], \"time\"))"
   ]
  },
  {
   "cell_type": "code",
   "execution_count": null,
   "id": "7f6ea61d",
   "metadata": {},
   "outputs": [],
   "source": [
    "scenario = '370'\n",
    "\n",
    "temp_40 = xr.open_dataset(f\"../data/tasmax_day_CMCC-ESM2_ssp{scenario}_r1i1p1f1_gn_20400101-20641231.nc\")\n",
    "temp_65 = xr.open_dataset(f\"../data/tasmax_day_CMCC-ESM2_ssp{scenario}_r1i1p1f1_gn_20650101-20891231.nc\")\n",
    "temp_90 = xr.open_dataset(f\"../data/tasmax_day_CMCC-ESM2_ssp{scenario}_r1i1p1f1_gn_20900101-21001231.nc\")\n",
    "temp_proj.append(xr.concat([temp_40, temp_65, temp_90], \"time\"))\n",
    "\n",
    "prcp_40 = xr.open_dataset(f\"../data/pr_day_CMCC-ESM2_ssp{scenario}_r1i1p1f1_gn_20400101-20641231.nc\")\n",
    "prcp_65 = xr.open_dataset(f\"../data/pr_day_CMCC-ESM2_ssp{scenario}_r1i1p1f1_gn_20650101-20891231.nc\")\n",
    "prcp_90 = xr.open_dataset(f\"../data/pr_day_CMCC-ESM2_ssp{scenario}_r1i1p1f1_gn_20900101-21001231.nc\")\n",
    "prcp_proj.append(xr.concat([prcp_40, prcp_65, prcp_90], \"time\"))\n",
    "\n",
    "wind_40 = xr.open_dataset(f\"../data/sfcWind_day_CMCC-ESM2_ssp{scenario}_r1i1p1f1_gn_20400101-20641231.nc\")\n",
    "wind_65 = xr.open_dataset(f\"../data/sfcWind_day_CMCC-ESM2_ssp{scenario}_r1i1p1f1_gn_20650101-20891231.nc\")\n",
    "wind_90 = xr.open_dataset(f\"../data/sfcWind_day_CMCC-ESM2_ssp{scenario}_r1i1p1f1_gn_20900101-21001231.nc\")\n",
    "wind_proj.append(xr.concat([wind_40, wind_65, wind_90], \"time\"))"
   ]
  },
  {
   "cell_type": "code",
   "execution_count": 1,
   "id": "7eabcee2",
   "metadata": {},
   "outputs": [
    {
     "ename": "NameError",
     "evalue": "name 'xr' is not defined",
     "output_type": "error",
     "traceback": [
      "\u001b[0;31m---------------------------------------------------------------------------\u001b[0m",
      "\u001b[0;31mNameError\u001b[0m                                 Traceback (most recent call last)",
      "Cell \u001b[0;32mIn[1], line 3\u001b[0m\n\u001b[1;32m      1\u001b[0m scenario \u001b[38;5;241m=\u001b[39m \u001b[38;5;124m'\u001b[39m\u001b[38;5;124m585\u001b[39m\u001b[38;5;124m'\u001b[39m\n\u001b[0;32m----> 3\u001b[0m temp_40 \u001b[38;5;241m=\u001b[39m \u001b[43mxr\u001b[49m\u001b[38;5;241m.\u001b[39mopen_dataset(\u001b[38;5;124mf\u001b[39m\u001b[38;5;124m\"\u001b[39m\u001b[38;5;124m../data/tasmax_day_CMCC-ESM2_ssp\u001b[39m\u001b[38;5;132;01m{\u001b[39;00mscenario\u001b[38;5;132;01m}\u001b[39;00m\u001b[38;5;124m_r1i1p1f1_gn_20400101-20641231.nc\u001b[39m\u001b[38;5;124m\"\u001b[39m)\n\u001b[1;32m      4\u001b[0m temp_65 \u001b[38;5;241m=\u001b[39m xr\u001b[38;5;241m.\u001b[39mopen_dataset(\u001b[38;5;124mf\u001b[39m\u001b[38;5;124m\"\u001b[39m\u001b[38;5;124m../data/tasmax_day_CMCC-ESM2_ssp\u001b[39m\u001b[38;5;132;01m{\u001b[39;00mscenario\u001b[38;5;132;01m}\u001b[39;00m\u001b[38;5;124m_r1i1p1f1_gn_20650101-20891231.nc\u001b[39m\u001b[38;5;124m\"\u001b[39m)\n\u001b[1;32m      5\u001b[0m temp_90 \u001b[38;5;241m=\u001b[39m xr\u001b[38;5;241m.\u001b[39mopen_dataset(\u001b[38;5;124mf\u001b[39m\u001b[38;5;124m\"\u001b[39m\u001b[38;5;124m../data/tasmax_day_CMCC-ESM2_ssp\u001b[39m\u001b[38;5;132;01m{\u001b[39;00mscenario\u001b[38;5;132;01m}\u001b[39;00m\u001b[38;5;124m_r1i1p1f1_gn_20900101-21001231.nc\u001b[39m\u001b[38;5;124m\"\u001b[39m)\n",
      "\u001b[0;31mNameError\u001b[0m: name 'xr' is not defined"
     ]
    }
   ],
   "source": [
    "scenario = '585'\n",
    "\n",
    "temp_40 = xr.open_dataset(f\"../data/tasmax_day_CMCC-ESM2_ssp{scenario}_r1i1p1f1_gn_20400101-20641231.nc\")\n",
    "temp_65 = xr.open_dataset(f\"../data/tasmax_day_CMCC-ESM2_ssp{scenario}_r1i1p1f1_gn_20650101-20891231.nc\")\n",
    "temp_90 = xr.open_dataset(f\"../data/tasmax_day_CMCC-ESM2_ssp{scenario}_r1i1p1f1_gn_20900101-21001231.nc\")\n",
    "temp_proj.append(xr.concat([temp_40, temp_65, temp_90], \"time\"))\n",
    "\n",
    "prcp_40 = xr.open_dataset(f\"../data/pr_day_CMCC-ESM2_ssp{scenario}_r1i1p1f1_gn_20400101-20641231.nc\")\n",
    "prcp_65 = xr.open_dataset(f\"../data/pr_day_CMCC-ESM2_ssp{scenario}_r1i1p1f1_gn_20650101-20891231.nc\")\n",
    "prcp_90 = xr.open_dataset(f\"../data/pr_day_CMCC-ESM2_ssp{scenario}_r1i1p1f1_gn_20900101-21001231.nc\")\n",
    "prcp_proj.append(xr.concat([prcp_40, prcp_65, prcp_90], \"time\"))\n",
    "\n",
    "wind_40 = xr.open_dataset(f\"../data/sfcWind_day_CMCC-ESM2_ssp{scenario}_r1i1p1f1_gn_20400101-20641231.nc\")\n",
    "wind_65 = xr.open_dataset(f\"../data/sfcWind_day_CMCC-ESM2_ssp{scenario}_r1i1p1f1_gn_20650101-20891231.nc\")\n",
    "wind_90 = xr.open_dataset(f\"../data/sfcWind_day_CMCC-ESM2_ssp{scenario}_r1i1p1f1_gn_20900101-21001231.nc\")\n",
    "wind_proj.append(xr.concat([wind_40, wind_65, wind_90], \"time\"))"
   ]
  },
  {
   "cell_type": "code",
   "execution_count": 7,
   "id": "a63fbc07",
   "metadata": {},
   "outputs": [],
   "source": [
    "# Projection Datasets\n",
    "# regrouped by climate variable\n",
    "\n",
    "# IPCC scenarios: SSP1-2.6, SSP2-4.5, SSP3-7.0, SSP5-8.5\n",
    "scenarios = ['245', '585']\n",
    "\n",
    "temp_proj = []\n",
    "prcp_proj = []\n",
    "wind_proj = []\n",
    "\n",
    "for scenario in scenarios:\n",
    "\n",
    "    temp_40 = xr.open_dataset(f\"../data/tasmax_day_CMCC-ESM2_ssp{scenario}_r1i1p1f1_gn_20400101-20641231.nc\")\n",
    "    temp_65 = xr.open_dataset(f\"../data/tasmax_day_CMCC-ESM2_ssp{scenario}_r1i1p1f1_gn_20650101-20891231.nc\")\n",
    "    temp_90 = xr.open_dataset(f\"../data/tasmax_day_CMCC-ESM2_ssp{scenario}_r1i1p1f1_gn_20900101-21001231.nc\")\n",
    "    temp_proj.append(xr.concat([temp_40, temp_65, temp_90], \"time\"))\n",
    "\n",
    "    prcp_40 = xr.open_dataset(f\"../data/pr_day_CMCC-ESM2_ssp{scenario}_r1i1p1f1_gn_20400101-20641231.nc\")\n",
    "    prcp_65 = xr.open_dataset(f\"../data/pr_day_CMCC-ESM2_ssp{scenario}_r1i1p1f1_gn_20650101-20891231.nc\")\n",
    "    prcp_90 = xr.open_dataset(f\"../data/pr_day_CMCC-ESM2_ssp{scenario}_r1i1p1f1_gn_20900101-21001231.nc\")\n",
    "    prcp_proj.append(xr.concat([prcp_40, prcp_65, prcp_90], \"time\"))\n",
    "\n",
    "    wind_40 = xr.open_dataset(f\"../data/sfcWind_day_CMCC-ESM2_ssp{scenario}_r1i1p1f1_gn_20400101-20641231.nc\")\n",
    "    wind_65 = xr.open_dataset(f\"../data/sfcWind_day_CMCC-ESM2_ssp{scenario}_r1i1p1f1_gn_20650101-20891231.nc\")\n",
    "    wind_90 = xr.open_dataset(f\"../data/sfcWind_day_CMCC-ESM2_ssp{scenario}_r1i1p1f1_gn_20900101-21001231.nc\")\n",
    "    wind_proj.append(xr.concat([wind_40, wind_65, wind_90], \"time\"))"
   ]
  },
  {
   "cell_type": "code",
   "execution_count": 15,
   "id": "c9110f56",
   "metadata": {},
   "outputs": [],
   "source": [
    "def get_global_extrema(histo_dataset: np.ndarray,\n",
    "                       proj_list: list[np.ndarray]) -> np.array:\n",
    "    # compute global extrema over past and future\n",
    "    global_min = np.min(histo_dataset)\n",
    "    global_max = np.max(histo_dataset)\n",
    "    for i in range(len(proj_list)):\n",
    "        global_min = min(global_min, np.min(proj_list[i]))\n",
    "        global_max = max(global_max, np.max(proj_list[i]))\n",
    "    return np.array([global_min, global_max])"
   ]
  },
  {
   "cell_type": "code",
   "execution_count": 3,
   "id": "607fd8b4",
   "metadata": {},
   "outputs": [],
   "source": [
    "def preprocess_3d_allssp(temp_histo: xr.Dataset,\n",
    "                         temp_proj: list[xr.Dataset],\n",
    "                         prcp_histo: xr.Dataset,\n",
    "                         prcp_proj: list[xr.Dataset],\n",
    "                         wind_histo: xr.Dataset,\n",
    "                         wind_proj: list[xr.Dataset],\n",
    "                         sq_crop: dict,\n",
    "                         scenarios: list[str],\n",
    "                         saving_on: bool = True):\n",
    "    \n",
    "    n_ipcc = len(scenarios)\n",
    "    \n",
    "    # convert historical xarrays to ndarrays for each climate variable\n",
    "    temp_histo_nd, time_list = xr_to_ndarray(temp_histo, sq_crop)\n",
    "    prcp_histo_nd, _ = xr_to_ndarray(prcp_histo, sq_crop)\n",
    "    wind_histo_nd, _ = xr_to_ndarray(wind_histo, sq_crop)\n",
    "\n",
    "    temp_proj_list = []\n",
    "    prcp_proj_list = []\n",
    "    wind_proj_list = []\n",
    "    time_proj = xr_to_ndarray(temp_proj[0], sq_crop)\n",
    "    for i in range(n_ipcc):\n",
    "        # projection xarrays to ndarrays\n",
    "        temp_proj_list = temp_proj_list.append(xr_to_ndarray(temp_proj[i], sq_crop)[0])\n",
    "        prcp_proj_list = prcp_proj_list.append(xr_to_ndarray(prcp_proj[i], sq_crop)[0])\n",
    "        wind_proj_list = wind_proj_list.append(xr_to_ndarray(wind_proj[i], sq_crop)[0])\n",
    "\n",
    "    # compute extrema for each variable\n",
    "    temp_extrema = get_global_extrema(temp_histo_nd, temp_proj_list)\n",
    "    prcp_extrema = get_global_extrema(prcp_histo_nd, prcp_proj_list)\n",
    "    wind_extrema = get_global_extrema(wind_histo_nd, wind_proj_list)\n",
    "\n",
    "    # normalize all datasets\n",
    "    temp_histo_norm = normalize(temp_histo_nd, temp_extrema)\n",
    "    prcp_histo_norm = normalize(prcp_histo_nd, prcp_extrema)\n",
    "    wind_histo_norm = normalize(wind_histo_nd, wind_extrema)\n",
    "    temp_proj_norm = []\n",
    "    prcp_proj_norm = []\n",
    "    wind_proj_norm = []\n",
    "    total_proj = []\n",
    "    for i in range(n_ipcc):\n",
    "        temp_norm = normalize(temp_proj_nd, temp_extrema)\n",
    "        prcp_norm = normalize(prcp_proj_nd, prcp_extrema)\n",
    "        wind_norm = normalize(wind_proj_nd, wind_extrema)\n",
    "        temp_proj_norm = temp_proj_norm.append(temp_norm)\n",
    "        prcp_proj_norm = prcp_proj_norm.append(prcp_norm)\n",
    "        wind_proj_norm = wind_proj_norm.append(wind_norm)\n",
    "        # aggregate\n",
    "        total_proj = total_proj.append(ndarray_to_3d(temp_norm,\n",
    "                                                    prcp_norm,\n",
    "                                                    wind_norm))\n",
    "\n",
    "    # split historical datasets into train and test ones\n",
    "    train_temp, test_temp, train_time, test_time = split_train_test(temp_histo_norm,\n",
    "                                                                    time_list)\n",
    "    train_prcp, test_prcp, _, _ = split_train_test(prcp_histo_norm, \n",
    "                                                   time_list)\n",
    "    train_wind, test_wind, _, _ = split_train_test(wind_histo_norm,\n",
    "                                                   time_list)\n",
    "    # aggregate datasets per time period (3D-ndarrays)\n",
    "    total_train = ndarray_to_3d(train_temp, train_prcp, train_wind)\n",
    "    total_test = ndarray_to_3d(test_temp, test_prcp, test_wind)\n",
    "\n",
    "    # save data in input folder\n",
    "    if saving_on == True:\n",
    "        np.save(\"../input/preprocessed_3d_train_data.npy\", total_train)\n",
    "        np.save(\"../input/preprocessed_3d_test_data.npy\", total_test)\n",
    "        pd.DataFrame(train_time).to_csv('../input/dates_train_data.csv')\n",
    "        pd.DataFrame(test_time).to_csv('../input/dates_test_data.csv')\n",
    "        pd.DataFrame(time_proj).to_csv('../input/dates_proj_data.csv')\n",
    "        for i in range(n_ipcc):\n",
    "            np.save(f\"../input/preprocessed_3d_proj{scenarios[i]}_data.npy\", total_proj[i])\n",
    "        \n",
    "    return total_train, total_test, total_proj, train_time, test_time, time_proj"
   ]
  },
  {
   "cell_type": "code",
   "execution_count": null,
   "id": "f086a8cd",
   "metadata": {},
   "outputs": [],
   "source": [
    "preprocess_3d_allssp(temp_histo, temp_proj, prcp_histo,\n",
    "                     prcp_proj, wind_histo, wind_proj,\n",
    "                     sq32_west_europe, scenarios)"
   ]
  },
  {
   "cell_type": "code",
   "execution_count": null,
   "id": "6503470d",
   "metadata": {},
   "outputs": [],
   "source": []
  }
 ],
 "metadata": {
  "kernelspec": {
   "display_name": "Python 3 (ipykernel)",
   "language": "python",
   "name": "python3"
  },
  "language_info": {
   "codemirror_mode": {
    "name": "ipython",
    "version": 3
   },
   "file_extension": ".py",
   "mimetype": "text/x-python",
   "name": "python",
   "nbconvert_exporter": "python",
   "pygments_lexer": "ipython3",
   "version": "3.10.9"
  }
 },
 "nbformat": 4,
 "nbformat_minor": 5
}
